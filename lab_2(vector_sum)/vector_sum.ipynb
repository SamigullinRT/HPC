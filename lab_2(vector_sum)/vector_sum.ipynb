{
  "nbformat": 4,
  "nbformat_minor": 0,
  "metadata": {
    "colab": {
      "provenance": [],
      "gpuType": "T4",
      "authorship_tag": "ABX9TyMmlb5JVBmOwTrCRxYrA9fg",
      "include_colab_link": true
    },
    "kernelspec": {
      "name": "python3",
      "display_name": "Python 3"
    },
    "language_info": {
      "name": "python"
    },
    "accelerator": "GPU"
  },
  "cells": [
    {
      "cell_type": "markdown",
      "metadata": {
        "id": "view-in-github",
        "colab_type": "text"
      },
      "source": [
        "<a href=\"https://colab.research.google.com/github/SamigullinRT/HPC/blob/main/lab_2(vector_sum)/vector_sum.ipynb\" target=\"_parent\"><img src=\"https://colab.research.google.com/assets/colab-badge.svg\" alt=\"Open In Colab\"/></a>"
      ]
    },
    {
      "cell_type": "code",
      "execution_count": 1,
      "metadata": {
        "colab": {
          "base_uri": "https://localhost:8080/"
        },
        "id": "dtbFfLa-W4XH",
        "outputId": "552fd4c0-0022-405b-fbe0-dc40fa97dd36"
      },
      "outputs": [
        {
          "output_type": "stream",
          "name": "stdout",
          "text": [
            "Collecting git+https://github.com/andreinechaev/nvcc4jupyter.git\n",
            "  Cloning https://github.com/andreinechaev/nvcc4jupyter.git to /tmp/pip-req-build-5jykbrlg\n",
            "  Running command git clone --filter=blob:none --quiet https://github.com/andreinechaev/nvcc4jupyter.git /tmp/pip-req-build-5jykbrlg\n",
            "  Resolved https://github.com/andreinechaev/nvcc4jupyter.git to commit 0a71d56e5dce3ff1f0dd2c47c29367629262f527\n",
            "  Preparing metadata (setup.py) ... \u001b[?25l\u001b[?25hdone\n",
            "Building wheels for collected packages: NVCCPlugin\n",
            "  Building wheel for NVCCPlugin (setup.py) ... \u001b[?25l\u001b[?25hdone\n",
            "  Created wheel for NVCCPlugin: filename=NVCCPlugin-0.0.2-py3-none-any.whl size=4295 sha256=a2c74c29ab1574d86f3000fd8f5612db451c2f1bd25becbcc664fe3a93d5cbd6\n",
            "  Stored in directory: /tmp/pip-ephem-wheel-cache-46xtc6ud/wheels/a8/b9/18/23f8ef71ceb0f63297dd1903aedd067e6243a68ea756d6feea\n",
            "Successfully built NVCCPlugin\n",
            "Installing collected packages: NVCCPlugin\n",
            "Successfully installed NVCCPlugin-0.0.2\n"
          ]
        }
      ],
      "source": [
        "!pip install git+https://github.com/andreinechaev/nvcc4jupyter.git"
      ]
    },
    {
      "cell_type": "code",
      "source": [
        "%load_ext nvcc_plugin"
      ],
      "metadata": {
        "colab": {
          "base_uri": "https://localhost:8080/"
        },
        "id": "Tw5DHF3jXcwM",
        "outputId": "fb5a8be4-96fe-4846-cbc0-f06de6871f6c"
      },
      "execution_count": 2,
      "outputs": [
        {
          "output_type": "stream",
          "name": "stdout",
          "text": [
            "created output directory at /content/src\n",
            "Out bin /content/result.out\n"
          ]
        }
      ]
    },
    {
      "cell_type": "code",
      "source": [
        "%%cu\n",
        "#include <iostream>\n",
        "#include <vector>\n",
        "#include <chrono>\n",
        "\n",
        "// Функция сложения элементов вектора на CPU\n",
        "int sumVectorCPU(const std::vector<int>& vec) {\n",
        "    int sum = 0;\n",
        "    for (int i = 0; i < vec.size(); i++) {\n",
        "        sum += vec[i];\n",
        "    }\n",
        "    return sum;\n",
        "}\n",
        "\n",
        "// Функция сложения элементов вектора на GPU с использованием CUDA\n",
        "__global__ void sumVectorGPU(const int* vec, int* sum, int size) {\n",
        "    int tid = blockIdx.x * blockDim.x + threadIdx.x;\n",
        "    if (tid < size) {\n",
        "        atomicAdd(sum, vec[tid]);\n",
        "    }\n",
        "}\n",
        "\n",
        "int main() {\n",
        "    // Создание и заполнение вектора\n",
        "    const int size = 10e+8;\n",
        "    std::vector<int> vec(size);\n",
        "    for (int i = 0; i < size; i++) {\n",
        "        vec[i] = i + 1;\n",
        "    }\n",
        "\n",
        "    // Сложение элементов на CPU\n",
        "    auto startCPU = std::chrono::high_resolution_clock::now();\n",
        "    int sumCPU = sumVectorCPU(vec);\n",
        "    auto endCPU = std::chrono::high_resolution_clock::now();\n",
        "    std::chrono::duration<double> cpuDuration = endCPU - startCPU;\n",
        "\n",
        "    // Сложение элементов на GPU с использованием CUDA\n",
        "    int* devVec;\n",
        "    int* devSum;\n",
        "    cudaMalloc((void**)&devVec, size * sizeof(int));\n",
        "    cudaMalloc((void**)&devSum, sizeof(int));\n",
        "    cudaMemcpy(devVec, vec.data(), size * sizeof(int), cudaMemcpyHostToDevice);\n",
        "    cudaMemset(devSum, 0, sizeof(int));\n",
        "\n",
        "    int threadsPerBlock = 256;\n",
        "    int blocksPerGrid = (size + threadsPerBlock - 1) / threadsPerBlock;\n",
        "\n",
        "    auto startGPU = std::chrono::high_resolution_clock::now();\n",
        "    sumVectorGPU <<<blocksPerGrid, threadsPerBlock>>> (devVec, devSum, size);\n",
        "    cudaDeviceSynchronize();\n",
        "    int sumGPU;\n",
        "    cudaMemcpy(&sumGPU, devSum, sizeof(int), cudaMemcpyDeviceToHost);\n",
        "    auto endGPU = std::chrono::high_resolution_clock::now();\n",
        "    std::chrono::duration<double> gpuDuration = endGPU - startGPU;\n",
        "\n",
        "    // Освобождение памяти на GPU\n",
        "    cudaFree(devVec);\n",
        "    cudaFree(devSum);\n",
        "\n",
        "    // Вывод результатов\n",
        "    std::cout << \"Сумма элементов на CPU: \" << sumCPU << std::endl;\n",
        "    std::cout << \"Время выполнения на CPU: \" << cpuDuration.count() << \" сек\" << std::endl;\n",
        "    std::cout << \"Сумма элементов на GPU: \" << sumGPU << std::endl;\n",
        "    std::cout << \"Время выполнения на GPU: \" << gpuDuration.count() << \" сек\" << std::endl;\n",
        "\n",
        "    return 0;\n",
        "}"
      ],
      "metadata": {
        "colab": {
          "base_uri": "https://localhost:8080/"
        },
        "id": "a4tUpGU0Xciy",
        "outputId": "0156325d-b027-48cc-c991-dfef778994ab"
      },
      "execution_count": 11,
      "outputs": [
        {
          "output_type": "stream",
          "name": "stdout",
          "text": [
            "Сумма элементов на CPU: -243309312\n",
            "Время выполнения на CPU: 4.93901 сек\n",
            "Сумма элементов на GPU: -243309312\n",
            "Время выполнения на GPU: 0.0484628 сек\n",
            "\n"
          ]
        }
      ]
    },
    {
      "cell_type": "markdown",
      "source": [],
      "metadata": {
        "id": "EEPR6cFXb2Dn"
      }
    }
  ]
}