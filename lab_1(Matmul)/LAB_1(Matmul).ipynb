{
  "nbformat": 4,
  "nbformat_minor": 0,
  "metadata": {
    "colab": {
      "provenance": [],
      "gpuType": "T4",
      "authorship_tag": "ABX9TyP4glpV/CuCiYn3PMTIMpRA",
      "include_colab_link": true
    },
    "kernelspec": {
      "name": "python3",
      "display_name": "Python 3"
    },
    "language_info": {
      "name": "python"
    },
    "accelerator": "GPU"
  },
  "cells": [
    {
      "cell_type": "markdown",
      "metadata": {
        "id": "view-in-github",
        "colab_type": "text"
      },
      "source": [
        "<a href=\"https://colab.research.google.com/github/SamigullinRT/HPC/blob/main/lab_1(Matmul)/LAB_1(Matmul).ipynb\" target=\"_parent\"><img src=\"https://colab.research.google.com/assets/colab-badge.svg\" alt=\"Open In Colab\"/></a>"
      ]
    },
    {
      "cell_type": "code",
      "execution_count": 1,
      "metadata": {
        "colab": {
          "base_uri": "https://localhost:8080/"
        },
        "id": "CjFH9Zp7QgsN",
        "outputId": "af6856b5-bea6-4f5b-c80c-17d175b4bef0"
      },
      "outputs": [
        {
          "output_type": "stream",
          "name": "stdout",
          "text": [
            "Collecting git+https://github.com/andreinechaev/nvcc4jupyter.git\n",
            "  Cloning https://github.com/andreinechaev/nvcc4jupyter.git to /tmp/pip-req-build-d2ykw94d\n",
            "  Running command git clone --filter=blob:none --quiet https://github.com/andreinechaev/nvcc4jupyter.git /tmp/pip-req-build-d2ykw94d\n",
            "  Resolved https://github.com/andreinechaev/nvcc4jupyter.git to commit 0a71d56e5dce3ff1f0dd2c47c29367629262f527\n",
            "  Preparing metadata (setup.py) ... \u001b[?25l\u001b[?25hdone\n",
            "Building wheels for collected packages: NVCCPlugin\n",
            "  Building wheel for NVCCPlugin (setup.py) ... \u001b[?25l\u001b[?25hdone\n",
            "  Created wheel for NVCCPlugin: filename=NVCCPlugin-0.0.2-py3-none-any.whl size=4295 sha256=bb9a84d6291f5c7c40b78cbeb09e80cbe6a53a840c0dd8bb735b64f461fc6289\n",
            "  Stored in directory: /tmp/pip-ephem-wheel-cache-6arwt0xg/wheels/a8/b9/18/23f8ef71ceb0f63297dd1903aedd067e6243a68ea756d6feea\n",
            "Successfully built NVCCPlugin\n",
            "Installing collected packages: NVCCPlugin\n",
            "Successfully installed NVCCPlugin-0.0.2\n"
          ]
        }
      ],
      "source": [
        "!pip install git+https://github.com/andreinechaev/nvcc4jupyter.git"
      ]
    },
    {
      "cell_type": "code",
      "source": [
        "%load_ext nvcc_plugin"
      ],
      "metadata": {
        "colab": {
          "base_uri": "https://localhost:8080/"
        },
        "id": "REmzVGGMdztY",
        "outputId": "d4139092-2a20-418a-fae0-c3f72dd3e3c5"
      },
      "execution_count": 2,
      "outputs": [
        {
          "output_type": "stream",
          "name": "stdout",
          "text": [
            "created output directory at /content/src\n",
            "Out bin /content/result.out\n"
          ]
        }
      ]
    },
    {
      "cell_type": "code",
      "source": [
        "%%cu\n",
        "#include <iostream>\n",
        "#include <cstdlib>\n",
        "#include <ctime>\n",
        "\n",
        "// Функция для перемножения матриц на CPU\n",
        "void matrixMultiplicationCPU(int *A, int *B, int *C, int rowsA, int colsA, int colsB) {\n",
        "    for (int i = 0; i < rowsA; ++i) {\n",
        "        for (int j = 0; j < colsB; ++j) {\n",
        "            int sum = 0;\n",
        "            for (int k = 0; k < colsA; ++k) {\n",
        "                sum += A[i * colsA + k] * B[k * colsB + j];\n",
        "            }\n",
        "            C[i * colsB + j] = sum;\n",
        "        }\n",
        "    }\n",
        "}\n",
        "\n",
        "// Функция для перемножения матриц на GPU с использованием CUDA\n",
        "__global__\n",
        "void matrixMultiplicationGPU(int *A, int *B, int *C, int rowsA, int colsA, int colsB) {\n",
        "    int row = blockIdx.y * blockDim.y + threadIdx.y;\n",
        "    int col = blockIdx.x * blockDim.x + threadIdx.x;\n",
        "\n",
        "    if (row < rowsA && col < colsB) {\n",
        "        int sum = 0;\n",
        "        for (int k = 0; k < colsA; ++k) {\n",
        "            sum += A[row * colsA + k] * B[k * colsB + col];\n",
        "        }\n",
        "        C[row * colsB + col] = sum;\n",
        "    }\n",
        "}\n",
        "\n",
        "int main() {\n",
        "    // Задаем размеры матриц\n",
        "    int rowsA = 100;\n",
        "    int colsA = 100;\n",
        "    int colsB = 100;\n",
        "\n",
        "    // Вычисляем количество элементов в матрицах\n",
        "    int sizeA = rowsA * colsA;\n",
        "    int sizeB = colsA * colsB;\n",
        "    int sizeC = rowsA * colsB;\n",
        "\n",
        "    // Выделяем память на хосте (CPU)\n",
        "    int *h_A = new int[sizeA];\n",
        "    int *h_B = new int[sizeB];\n",
        "    int *h_C_CPU = new int[sizeC];\n",
        "    int *h_C_GPU = new int[sizeC];\n",
        "\n",
        "    // Заполняем матрицы A и B случайными значениями\n",
        "    srand(time(NULL));\n",
        "    for (int i = 0; i < sizeA; ++i) {\n",
        "        h_A[i] = rand() % 10;\n",
        "    }\n",
        "    for (int i = 0; i < sizeB; ++i) {\n",
        "        h_B[i] = rand() % 10;\n",
        "    }\n",
        "\n",
        "    // Выделяем память на устройстве (GPU)\n",
        "    int *d_A, *d_B, *d_C;\n",
        "    cudaMalloc((void **)&d_A, sizeA * sizeof(int));\n",
        "    cudaMalloc((void **)&d_B, sizeB * sizeof(int));\n",
        "    cudaMalloc((void **)&d_C, sizeC * sizeof(int));\n",
        "\n",
        "    // Копируем данные из хоста в память устройства\n",
        "    cudaMemcpy(d_A, h_A, sizeA * sizeof(int), cudaMemcpyHostToDevice);\n",
        "    cudaMemcpy(d_B, h_B, sizeB * sizeof(int), cudaMemcpyHostToDevice);\n",
        "\n",
        "    // Задаем размерность сетки и блока\n",
        "    dim3 threadsPerBlock(16, 16);\n",
        "    dim3 blocksPerGrid((colsB + threadsPerBlock.x - 1) / threadsPerBlock.x, (rowsA + threadsPerBlock.y - 1) / threadsPerBlock.y);\n",
        "\n",
        "    // Выполняем перемножение матриц на GPU и замерьте время\n",
        "    cudaEvent_t start, stop;\n",
        "    cudaEventCreate(&start);\n",
        "    cudaEventCreate(&stop);\n",
        "    cudaEventRecord(start);\n",
        "    matrixMultiplicationGPU<<<blocksPerGrid, threadsPerBlock>>>(d_A, d_B, d_C, rowsA, colsA, colsB);\n",
        "    cudaEventRecord(stop);\n",
        "    cudaEventSynchronize(stop);\n",
        "    float milliseconds = 0;\n",
        "    cudaEventElapsedTime(&milliseconds, start, stop);\n",
        "\n",
        "    // Копируем результат из памяти устройства на хост\n",
        "    cudaMemcpy(h_C_GPU, d_C, sizeC * sizeof(int), cudaMemcpyDeviceToHost);\n",
        "\n",
        "    // Выполняем перемножение матриц на CPU\n",
        "    clock_t cpu_start = clock();\n",
        "    matrixMultiplicationCPU(h_A, h_B, h_C_CPU, rowsA, colsA, colsB);\n",
        "    clock_t cpu_end = clock();\n",
        "    double cpu_time = double(cpu_end - cpu_start) / CLOCKS_PER_SEC;\n",
        "\n",
        "    // Проверяем корректность перемножения матриц\n",
        "    bool correctness = true;\n",
        "    for (int i = 0; i < sizeC; ++i) {\n",
        "        if (abs(h_C_CPU[i] - h_C_GPU[i]) > 0) {\n",
        "            correctness = false;\n",
        "            break;\n",
        "        }\n",
        "    }\n",
        "\n",
        "    // Выводим результаты\n",
        "    std::cout << \"Matrix multiplication correctness: \" << (correctness ? \"CORRECT\" : \"INCORRECT\") << std::endl;\n",
        "    std::cout << \"CPU Time: \" << cpu_time * 1000 << \" milliseconds\" << std::endl;\n",
        "    std::cout << \"GPU Time: \" << milliseconds << \" milliseconds\" << std::endl;\n",
        "\n",
        "    // Освобождаем память\n",
        "    delete[] h_A;\n",
        "    delete[] h_B;\n",
        "    delete[] h_C_CPU;\n",
        "    delete[] h_C_GPU;\n",
        "    cudaFree(d_A);\n",
        "    cudaFree(d_B);\n",
        "    cudaFree(d_C);\n",
        "\n",
        "    return 0;\n",
        "}"
      ],
      "metadata": {
        "colab": {
          "base_uri": "https://localhost:8080/"
        },
        "id": "F2690MAJdxPZ",
        "outputId": "c62455a1-a1e7-4fd0-b78e-1cabb7ebe1fd"
      },
      "execution_count": 17,
      "outputs": [
        {
          "output_type": "stream",
          "name": "stdout",
          "text": [
            "Matrix multiplication correctness: CORRECT\n",
            "CPU Time: 2.777 milliseconds\n",
            "GPU Time: 0.030752 milliseconds\n",
            "\n"
          ]
        }
      ]
    }
  ]
}